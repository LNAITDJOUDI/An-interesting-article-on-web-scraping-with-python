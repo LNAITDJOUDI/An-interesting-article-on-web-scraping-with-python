{
 "cells": [
  {
   "cell_type": "code",
   "execution_count": 40,
   "metadata": {},
   "outputs": [],
   "source": [
    "import pandas as pd\n",
    "import numpy as np\n"
   ]
  },
  {
   "cell_type": "code",
   "execution_count": 41,
   "metadata": {},
   "outputs": [
    {
     "name": "stderr",
     "output_type": "stream",
     "text": [
      "b'Skipping line 7362: expected 33 fields, saw 34\\n'\n"
     ]
    }
   ],
   "source": [
    "df=pd.read_csv('delinquance.csv',error_bad_lines=False, dtype='unicode',encoding = \"ISO-8859-1\")"
   ]
  },
  {
   "cell_type": "code",
   "execution_count": 42,
   "metadata": {},
   "outputs": [
    {
     "data": {
      "text/html": [
       "<div>\n",
       "<style scoped>\n",
       "    .dataframe tbody tr th:only-of-type {\n",
       "        vertical-align: middle;\n",
       "    }\n",
       "\n",
       "    .dataframe tbody tr th {\n",
       "        vertical-align: top;\n",
       "    }\n",
       "\n",
       "    .dataframe thead th {\n",
       "        text-align: right;\n",
       "    }\n",
       "</style>\n",
       "<table border=\"1\" class=\"dataframe\">\n",
       "  <thead>\n",
       "    <tr style=\"text-align: right;\">\n",
       "      <th></th>\n",
       "      <th>ville</th>\n",
       "      <th>lien</th>\n",
       "      <th>Violences aux personnes</th>\n",
       "      <th>Vols et dégradations</th>\n",
       "      <th>Délinquance économique et financière</th>\n",
       "      <th>Autres crimes et délits</th>\n",
       "      <th>Violences gratuites</th>\n",
       "      <th>Violences crapuleuses</th>\n",
       "      <th>Violences sexuelles</th>\n",
       "      <th>Menaces de violence</th>\n",
       "      <th>...</th>\n",
       "      <th>Différends familiaux</th>\n",
       "      <th>Proxénétisme</th>\n",
       "      <th>Ports ou détentions d'arme prohibée</th>\n",
       "      <th>Recels</th>\n",
       "      <th>Délits des courses et jeux d'argent</th>\n",
       "      <th>Délits liés aux débits de boisson et de tabac</th>\n",
       "      <th>Atteintes à l'environnement</th>\n",
       "      <th>Délits liés à la chasse et la pêche</th>\n",
       "      <th>Cruauté et délits envers les animaux</th>\n",
       "      <th>Atteintes aux intérêts fondamentaux de la Nation</th>\n",
       "    </tr>\n",
       "  </thead>\n",
       "  <tbody>\n",
       "    <tr>\n",
       "      <th>0</th>\n",
       "      <td>Beauville (47470)</td>\n",
       "      <td>/management/ville/beauville/ville-47025</td>\n",
       "      <td>301.0</td>\n",
       "      <td>1135.0</td>\n",
       "      <td>10.0</td>\n",
       "      <td>125.0</td>\n",
       "      <td>161.0</td>\n",
       "      <td>5.0</td>\n",
       "      <td>45.0</td>\n",
       "      <td>57.0</td>\n",
       "      <td>...</td>\n",
       "      <td>68.0</td>\n",
       "      <td>0.0</td>\n",
       "      <td>3.0</td>\n",
       "      <td>12.0</td>\n",
       "      <td>0.0</td>\n",
       "      <td>0.0</td>\n",
       "      <td>0.0</td>\n",
       "      <td>0.0</td>\n",
       "      <td>3.0</td>\n",
       "      <td>0.0</td>\n",
       "    </tr>\n",
       "    <tr>\n",
       "      <th>1</th>\n",
       "      <td>Brangues (38510)</td>\n",
       "      <td>/management/ville/brangues/ville-38055</td>\n",
       "      <td>586.0</td>\n",
       "      <td>2825.0</td>\n",
       "      <td>25.0</td>\n",
       "      <td>408.0</td>\n",
       "      <td>288.0</td>\n",
       "      <td>44.0</td>\n",
       "      <td>63.0</td>\n",
       "      <td>128.0</td>\n",
       "      <td>...</td>\n",
       "      <td>110.0</td>\n",
       "      <td>0.0</td>\n",
       "      <td>43.0</td>\n",
       "      <td>70.0</td>\n",
       "      <td>0.0</td>\n",
       "      <td>1.0</td>\n",
       "      <td>1.0</td>\n",
       "      <td>0.0</td>\n",
       "      <td>8.0</td>\n",
       "      <td>1.0</td>\n",
       "    </tr>\n",
       "    <tr>\n",
       "      <th>2</th>\n",
       "      <td>Blanchefosse-et-Bay (08290)</td>\n",
       "      <td>/management/ville/blanchefosse-et-bay/ville-08069</td>\n",
       "      <td>300.0</td>\n",
       "      <td>648.0</td>\n",
       "      <td>5.0</td>\n",
       "      <td>180.0</td>\n",
       "      <td>173.0</td>\n",
       "      <td>7.0</td>\n",
       "      <td>27.0</td>\n",
       "      <td>54.0</td>\n",
       "      <td>...</td>\n",
       "      <td>54.0</td>\n",
       "      <td>0.0</td>\n",
       "      <td>11.0</td>\n",
       "      <td>14.0</td>\n",
       "      <td>0.0</td>\n",
       "      <td>0.0</td>\n",
       "      <td>0.0</td>\n",
       "      <td>0.0</td>\n",
       "      <td>3.0</td>\n",
       "      <td>1.0</td>\n",
       "    </tr>\n",
       "    <tr>\n",
       "      <th>3</th>\n",
       "      <td>Arcey (21410)</td>\n",
       "      <td>/management/ville/arcey/ville-21018</td>\n",
       "      <td>522.0</td>\n",
       "      <td>2134.0</td>\n",
       "      <td>8.0</td>\n",
       "      <td>431.0</td>\n",
       "      <td>297.0</td>\n",
       "      <td>22.0</td>\n",
       "      <td>62.0</td>\n",
       "      <td>100.0</td>\n",
       "      <td>...</td>\n",
       "      <td>71.0</td>\n",
       "      <td>0.0</td>\n",
       "      <td>28.0</td>\n",
       "      <td>33.0</td>\n",
       "      <td>0.0</td>\n",
       "      <td>1.0</td>\n",
       "      <td>1.0</td>\n",
       "      <td>0.0</td>\n",
       "      <td>8.0</td>\n",
       "      <td>2.0</td>\n",
       "    </tr>\n",
       "    <tr>\n",
       "      <th>4</th>\n",
       "      <td>Aast (64460)</td>\n",
       "      <td>/management/ville/aast/ville-64001</td>\n",
       "      <td>343.0</td>\n",
       "      <td>1480.0</td>\n",
       "      <td>9.0</td>\n",
       "      <td>174.0</td>\n",
       "      <td>184.0</td>\n",
       "      <td>14.0</td>\n",
       "      <td>35.0</td>\n",
       "      <td>64.0</td>\n",
       "      <td>...</td>\n",
       "      <td>54.0</td>\n",
       "      <td>0.0</td>\n",
       "      <td>14.0</td>\n",
       "      <td>17.0</td>\n",
       "      <td>0.0</td>\n",
       "      <td>1.0</td>\n",
       "      <td>1.0</td>\n",
       "      <td>0.0</td>\n",
       "      <td>5.0</td>\n",
       "      <td>3.0</td>\n",
       "    </tr>\n",
       "  </tbody>\n",
       "</table>\n",
       "<p>5 rows × 33 columns</p>\n",
       "</div>"
      ],
      "text/plain": [
       "                         ville  \\\n",
       "0            Beauville (47470)   \n",
       "1             Brangues (38510)   \n",
       "2  Blanchefosse-et-Bay (08290)   \n",
       "3                Arcey (21410)   \n",
       "4                 Aast (64460)   \n",
       "\n",
       "                                                lien Violences aux personnes  \\\n",
       "0            /management/ville/beauville/ville-47025                   301.0   \n",
       "1             /management/ville/brangues/ville-38055                   586.0   \n",
       "2  /management/ville/blanchefosse-et-bay/ville-08069                   300.0   \n",
       "3                /management/ville/arcey/ville-21018                   522.0   \n",
       "4                 /management/ville/aast/ville-64001                   343.0   \n",
       "\n",
       "  Vols et dégradations Délinquance économique et financière  \\\n",
       "0               1135.0                                 10.0   \n",
       "1               2825.0                                 25.0   \n",
       "2                648.0                                  5.0   \n",
       "3               2134.0                                  8.0   \n",
       "4               1480.0                                  9.0   \n",
       "\n",
       "  Autres crimes et délits Violences gratuites Violences crapuleuses  \\\n",
       "0                   125.0               161.0                   5.0   \n",
       "1                   408.0               288.0                  44.0   \n",
       "2                   180.0               173.0                   7.0   \n",
       "3                   431.0               297.0                  22.0   \n",
       "4                   174.0               184.0                  14.0   \n",
       "\n",
       "  Violences sexuelles Menaces de violence  ... Différends familiaux  \\\n",
       "0                45.0                57.0  ...                 68.0   \n",
       "1                63.0               128.0  ...                110.0   \n",
       "2                27.0                54.0  ...                 54.0   \n",
       "3                62.0               100.0  ...                 71.0   \n",
       "4                35.0                64.0  ...                 54.0   \n",
       "\n",
       "  Proxénétisme Ports ou détentions d'arme prohibée Recels  \\\n",
       "0          0.0                                 3.0   12.0   \n",
       "1          0.0                                43.0   70.0   \n",
       "2          0.0                                11.0   14.0   \n",
       "3          0.0                                28.0   33.0   \n",
       "4          0.0                                14.0   17.0   \n",
       "\n",
       "  Délits des courses et jeux d'argent  \\\n",
       "0                                 0.0   \n",
       "1                                 0.0   \n",
       "2                                 0.0   \n",
       "3                                 0.0   \n",
       "4                                 0.0   \n",
       "\n",
       "  Délits liés aux débits de boisson et de tabac Atteintes à l'environnement  \\\n",
       "0                                           0.0                         0.0   \n",
       "1                                           1.0                         1.0   \n",
       "2                                           0.0                         0.0   \n",
       "3                                           1.0                         1.0   \n",
       "4                                           1.0                         1.0   \n",
       "\n",
       "  Délits liés à la chasse et la pêche Cruauté et délits envers les animaux  \\\n",
       "0                                 0.0                                  3.0   \n",
       "1                                 0.0                                  8.0   \n",
       "2                                 0.0                                  3.0   \n",
       "3                                 0.0                                  8.0   \n",
       "4                                 0.0                                  5.0   \n",
       "\n",
       "  Atteintes aux intérêts fondamentaux de la Nation  \n",
       "0                                              0.0  \n",
       "1                                              1.0  \n",
       "2                                              1.0  \n",
       "3                                              2.0  \n",
       "4                                              3.0  \n",
       "\n",
       "[5 rows x 33 columns]"
      ]
     },
     "execution_count": 42,
     "metadata": {},
     "output_type": "execute_result"
    }
   ],
   "source": [
    "df.head()"
   ]
  },
  {
   "cell_type": "code",
   "execution_count": 43,
   "metadata": {},
   "outputs": [
    {
     "data": {
      "text/plain": [
       "Index(['ville', 'lien', 'Violences aux personnes', 'Vols et dégradations',\n",
       "       'Délinquance économique et financière', 'Autres crimes et délits',\n",
       "       'Violences gratuites', 'Violences crapuleuses', 'Violences sexuelles',\n",
       "       'Menaces de violence', 'Atteintes à la dignité', 'Cambriolages',\n",
       "       'Vols à main armée (arme à feu)', 'Vols avec entrée par ruse',\n",
       "       'Vols liés à l'automobile', 'Vols de particuliers',\n",
       "       'Vols d'entreprises', 'Violation de domicile',\n",
       "       'Destruction et dégradations de biens',\n",
       "       'Escroqueries, faux et contrefaçons',\n",
       "       'Trafic, revente et usage de drogues', 'Infractions au code du Travail',\n",
       "       'Infractions liées à l'immigration', 'Différends familiaux',\n",
       "       'Proxénétisme', 'Ports ou détentions d'arme prohibée', 'Recels',\n",
       "       'Délits des courses et jeux d'argent',\n",
       "       'Délits liés aux débits de boisson et de tabac',\n",
       "       'Atteintes à l'environnement', 'Délits liés à la chasse et la pêche',\n",
       "       'Cruauté et délits envers les animaux',\n",
       "       'Atteintes aux intérêts fondamentaux de la Nation'],\n",
       "      dtype='object')"
      ]
     },
     "execution_count": 43,
     "metadata": {},
     "output_type": "execute_result"
    }
   ],
   "source": [
    "df.columns"
   ]
  },
  {
   "cell_type": "code",
   "execution_count": 44,
   "metadata": {},
   "outputs": [
    {
     "data": {
      "text/plain": [
       "ville                                               object\n",
       "lien                                                object\n",
       "Violences aux personnes                             object\n",
       "Vols et dégradations                                object\n",
       "Délinquance économique et financière                object\n",
       "Autres crimes et délits                             object\n",
       "Violences gratuites                                 object\n",
       "Violences crapuleuses                               object\n",
       "Violences sexuelles                                 object\n",
       "Menaces de violence                                 object\n",
       "Atteintes à la dignité                              object\n",
       "Cambriolages                                        object\n",
       "Vols à main armée (arme à feu)                      object\n",
       "Vols avec entrée par ruse                           object\n",
       "Vols liés à l'automobile                            object\n",
       "Vols de particuliers                                object\n",
       "Vols d'entreprises                                  object\n",
       "Violation de domicile                               object\n",
       "Destruction et dégradations de biens                object\n",
       "Escroqueries, faux et contrefaçons                  object\n",
       "Trafic, revente et usage de drogues                 object\n",
       "Infractions au code du Travail                      object\n",
       "Infractions liées à l'immigration                   object\n",
       "Différends familiaux                                object\n",
       "Proxénétisme                                        object\n",
       "Ports ou détentions d'arme prohibée                 object\n",
       "Recels                                              object\n",
       "Délits des courses et jeux d'argent                 object\n",
       "Délits liés aux débits de boisson et de tabac       object\n",
       "Atteintes à l'environnement                         object\n",
       "Délits liés à la chasse et la pêche                 object\n",
       "Cruauté et délits envers les animaux                object\n",
       "Atteintes aux intérêts fondamentaux de la Nation    object\n",
       "dtype: object"
      ]
     },
     "execution_count": 44,
     "metadata": {},
     "output_type": "execute_result"
    }
   ],
   "source": [
    "df.dtypes"
   ]
  },
  {
   "cell_type": "code",
   "execution_count": null,
   "metadata": {},
   "outputs": [],
   "source": []
  },
  {
   "cell_type": "code",
   "execution_count": 31,
   "metadata": {},
   "outputs": [
    {
     "data": {
      "text/plain": [
       "nan"
      ]
     },
     "execution_count": 31,
     "metadata": {},
     "output_type": "execute_result"
    }
   ],
   "source": [
    "float(np.nan)"
   ]
  },
  {
   "cell_type": "code",
   "execution_count": 32,
   "metadata": {},
   "outputs": [],
   "source": [
    "\n",
    "    "
   ]
  },
  {
   "cell_type": "code",
   "execution_count": 47,
   "metadata": {},
   "outputs": [
    {
     "data": {
      "text/plain": [
       "ville                                               object\n",
       "lien                                                object\n",
       "Violences aux personnes                             object\n",
       "Vols et dégradations                                object\n",
       "Délinquance économique et financière                object\n",
       "Autres crimes et délits                             object\n",
       "Violences gratuites                                 object\n",
       "Violences crapuleuses                               object\n",
       "Violences sexuelles                                 object\n",
       "Menaces de violence                                 object\n",
       "Atteintes à la dignité                              object\n",
       "Cambriolages                                        object\n",
       "Vols à main armée (arme à feu)                      object\n",
       "Vols avec entrée par ruse                           object\n",
       "Vols liés à l'automobile                            object\n",
       "Vols de particuliers                                object\n",
       "Vols d'entreprises                                  object\n",
       "Violation de domicile                               object\n",
       "Destruction et dégradations de biens                object\n",
       "Escroqueries, faux et contrefaçons                  object\n",
       "Trafic, revente et usage de drogues                 object\n",
       "Infractions au code du Travail                      object\n",
       "Infractions liées à l'immigration                   object\n",
       "Différends familiaux                                object\n",
       "Proxénétisme                                        object\n",
       "Ports ou détentions d'arme prohibée                 object\n",
       "Recels                                              object\n",
       "Délits des courses et jeux d'argent                 object\n",
       "Délits liés aux débits de boisson et de tabac       object\n",
       "Atteintes à l'environnement                         object\n",
       "Délits liés à la chasse et la pêche                 object\n",
       "Cruauté et délits envers les animaux                object\n",
       "Atteintes aux intérêts fondamentaux de la Nation    object\n",
       "dtype: object"
      ]
     },
     "execution_count": 47,
     "metadata": {},
     "output_type": "execute_result"
    }
   ],
   "source": [
    "df.dtypes"
   ]
  },
  {
   "cell_type": "code",
   "execution_count": 49,
   "metadata": {},
   "outputs": [
    {
     "data": {
      "text/plain": [
       "(34906, 33)"
      ]
     },
     "execution_count": 49,
     "metadata": {},
     "output_type": "execute_result"
    }
   ],
   "source": [
    "df.shape"
   ]
  },
  {
   "cell_type": "code",
   "execution_count": 51,
   "metadata": {},
   "outputs": [],
   "source": [
    "df.loc[df['Proxénétisme'].astype(str).str.contains('nc',na=False),'Proxénétisme']=np.nan\n"
   ]
  },
  {
   "cell_type": "code",
   "execution_count": 24,
   "metadata": {},
   "outputs": [],
   "source": []
  },
  {
   "cell_type": "code",
   "execution_count": null,
   "metadata": {},
   "outputs": [],
   "source": []
  }
 ],
 "metadata": {
  "kernelspec": {
   "display_name": "Python 3",
   "language": "python",
   "name": "python3"
  },
  "language_info": {
   "codemirror_mode": {
    "name": "ipython",
    "version": 3
   },
   "file_extension": ".py",
   "mimetype": "text/x-python",
   "name": "python",
   "nbconvert_exporter": "python",
   "pygments_lexer": "ipython3",
   "version": "3.6.10"
  }
 },
 "nbformat": 4,
 "nbformat_minor": 4
}
